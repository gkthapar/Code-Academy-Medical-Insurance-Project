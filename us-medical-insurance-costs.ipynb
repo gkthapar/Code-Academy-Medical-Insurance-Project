{
 "cells": [
  {
   "cell_type": "markdown",
   "metadata": {},
   "source": [
    "# U.S. Medical Insurance Costs"
   ]
  },
  {
   "cell_type": "code",
   "execution_count": 32,
   "metadata": {},
   "outputs": [],
   "source": [
    "\"\"\"Project questions:\n",
    "(1) What is the average age of patients in the sample?\n",
    "(2) How many people from each region?\n",
    "(3) What is the average charge by region? \n",
    "(4) How many males vs. females in the data? \n",
    "(5) What is the average charge for:\n",
    "    (a) a smoker vs. non-smoker\n",
    "    (c) each region \n",
    "    \n",
    "\n",
    "What do I need to do? \n",
    "(1) Access the file\n",
    "(2) Load the data into lists by category \n",
    "(3) Compute the average age of patients using a counter and len() function\n",
    "(4) Count the len of the male/female list\n",
    "(5) Import numpy and determine the correlation between smoker status, age, region, and charges\"\"\"\n",
    "\n",
    "import csv\n",
    "\n",
    "ages = []\n",
    "sexes = []\n",
    "bmis = []\n",
    "num_children = []\n",
    "smoker_statuses = []\n",
    "regions = []\n",
    "insurance_charges = []\n",
    "\n",
    "    \n",
    "#example output --> age_list = [19, 30, 21, etc]"
   ]
  },
  {
   "cell_type": "code",
   "execution_count": 35,
   "metadata": {},
   "outputs": [],
   "source": [
    "def create_lists(list_name, csv_file, column_header):\n",
    "    with open(csv_file) as csv_data:\n",
    "        csv_dictionary = csv.DictReader(csv_data)\n",
    "        for row in csv_dictionary:\n",
    "            list_name.append(row[column_header])\n",
    "        return list_name\n"
   ]
  },
  {
   "cell_type": "code",
   "execution_count": 36,
   "metadata": {},
   "outputs": [
    {
     "name": "stdout",
     "output_type": "stream",
     "text": [
      "2676\n"
     ]
    }
   ],
   "source": [
    "create_lists(ages, 'insurance.csv', 'age')\n",
    "create_lists(sexes, 'insurance.csv', 'sex')\n",
    "create_lists(bmis, 'insurance.csv', 'bmi')\n",
    "create_lists(num_children, 'insurance.csv', 'children')\n",
    "create_lists(regions, 'insurance.csv', 'region')\n",
    "create_lists(insurance_charges, 'insurance.csv', 'charges')\n",
    "create_lists(smoker_statuses, 'insurance.csv', 'smoker')\n",
    "\n",
    "print(len(sexes))"
   ]
  },
  {
   "cell_type": "code",
   "execution_count": 37,
   "metadata": {},
   "outputs": [
    {
     "name": "stdout",
     "output_type": "stream",
     "text": [
      "<class 'float'>\n"
     ]
    }
   ],
   "source": [
    "def convert_to_float(list_name):\n",
    "    float_list = []\n",
    "    for string in list_name:\n",
    "        floats = float(string)\n",
    "        float_list.append(floats)\n",
    "    list_name = float_list\n",
    "    return list_name\n",
    "    \n",
    "ages = convert_to_float(ages)\n",
    "insurance_charges = convert_to_float(insurance_charges)\n",
    "\n",
    "print(type(insurance_charges[0]))"
   ]
  },
  {
   "cell_type": "code",
   "execution_count": 39,
   "metadata": {},
   "outputs": [
    {
     "name": "stdout",
     "output_type": "stream",
     "text": [
      "The average age of individuals in the dataset is 39.21.\n",
      "The average insurance charge for individuals in the dataset is $13270.42.\n"
     ]
    }
   ],
   "source": [
    "def calculate_average(list_name):\n",
    "    num_items = len(list_name)\n",
    "    total = 0\n",
    "    for number in list_name:\n",
    "        total += number\n",
    "        average = total/num_items\n",
    "    return round(average,2)\n",
    "\n",
    "avg_age = calculate_average(ages)\n",
    "avg_charge = calculate_average(insurance_charges)\n",
    "\n",
    "print(\"The average age of individuals in the dataset is {avg_age}.\".format(avg_age = avg_age))\n",
    "print(\"The average insurance charge for individuals in the dataset is ${charge}.\".format(charge = avg_charge))"
   ]
  },
  {
   "cell_type": "code",
   "execution_count": 40,
   "metadata": {},
   "outputs": [
    {
     "name": "stdout",
     "output_type": "stream",
     "text": [
      "The dataset includes the following number of individuals, by region:\n",
      "Southwest: 650\n",
      "Southeast: 728\n",
      "Northwest: 650\n",
      "Northeast: 648\n"
     ]
    }
   ],
   "source": [
    "def count_in_list(list_name):\n",
    "    count_dict = dict()\n",
    "    for category in list_name:\n",
    "        if category not in count_dict:\n",
    "            count_dict[category] = 1\n",
    "        else:\n",
    "            count_dict[category] += 1\n",
    "    return count_dict\n",
    "\n",
    "regions_dictionary = count_in_list(regions)\n",
    "num_from_southwest = regions_dictionary['southwest']\n",
    "num_from_southeast = regions_dictionary['southeast']\n",
    "num_from_northwest = regions_dictionary['northwest']\n",
    "num_from_northeast = regions_dictionary['northeast']\n",
    "\n",
    "print(\"\"\"The dataset includes the following number of individuals, by region:\n",
    "Southwest: {num_southwest}\n",
    "Southeast: {num_southeast}\n",
    "Northwest: {num_northwest}\n",
    "Northeast: {num_northeast}\"\"\".format(num_southwest = num_from_southwest, num_southeast = num_from_southeast, num_northwest = num_from_northwest, num_northeast = num_from_northeast))"
   ]
  },
  {
   "cell_type": "code",
   "execution_count": 41,
   "metadata": {
    "scrolled": true
   },
   "outputs": [
    {
     "data": {
      "text/plain": [
       "{'female': 1324, 'male': 1352}"
      ]
     },
     "execution_count": 41,
     "metadata": {},
     "output_type": "execute_result"
    }
   ],
   "source": [
    "count_in_list(sexes)"
   ]
  },
  {
   "cell_type": "code",
   "execution_count": 42,
   "metadata": {},
   "outputs": [
    {
     "name": "stdout",
     "output_type": "stream",
     "text": [
      "(1352, 1324)\n"
     ]
    }
   ],
   "source": [
    "def sex_counter(list_name):\n",
    "    males = 0\n",
    "    females = 0\n",
    "    for sex in list_name: \n",
    "        if sex == 'male':\n",
    "            males += 1\n",
    "        elif sex == 'female':\n",
    "            females += 1\n",
    "    return males, females \n",
    "\n",
    "print(sex_counter(sexes))\n",
    "#double checked the counter function after a data discrepancy appeared "
   ]
  },
  {
   "cell_type": "code",
   "execution_count": 71,
   "metadata": {},
   "outputs": [
    {
     "name": "stdout",
     "output_type": "stream",
     "text": [
      "The number of smokers in the dataset is 548.\n",
      "The number of non-smokers in the dataset is 2128.\n"
     ]
    }
   ],
   "source": [
    "smoker_charges_list = list(zip(smoker_statuses, insurance_charges))\n",
    "\n",
    "\n",
    "smoker_dictionary = dict()\n",
    "non_smoker_dictionary = dict()\n",
    "\n",
    "def create_smoker_dict(list_name):\n",
    "    for data in list_name:\n",
    "        if data[0] == 'yes' and 'yes' not in smoker_dictionary:\n",
    "            smoker_dictionary['yes'] = 1\n",
    "        elif data[0] == 'yes':\n",
    "            smoker_dictionary['yes'] += 1 \n",
    "        elif data[0] == 'no' and 'no' not in non_smoker_dictionary:\n",
    "            non_smoker_dictionary['no'] = 1\n",
    "        elif data[0] == 'no':\n",
    "            non_smoker_dictionary['no'] += 1 \n",
    "    return smoker_dictionary, non_smoker_dictionary\n",
    "\n",
    "smoker_dict = create_smoker_dict(smoker_charges_list)\n",
    "\n",
    "num_smokers = smoker_dict[0]['yes']\n",
    "num_non_smokers = smoker_dict[1]['no']\n",
    "\n",
    "print(\"The number of smokers in the dataset is {num_smokers}.\".format(num_smokers = num_smokers))\n",
    "print(\"The number of non-smokers in the dataset is {num_non_smokers}.\".format(num_non_smokers = num_non_smokers))"
   ]
  },
  {
   "cell_type": "code",
   "execution_count": 93,
   "metadata": {},
   "outputs": [],
   "source": [
    "def total_charges_by_status(list_name):\n",
    "    smoker_total_charges = 0\n",
    "    non_smoker_total_charges = 0 \n",
    "    for data in list_name:\n",
    "        if data[0] == 'yes':\n",
    "            smoker_total_charges += data[1]\n",
    "        if data[0] == 'no':\n",
    "            non_smoker_total_charges += data[1]\n",
    "    return smoker_total_charges, non_smoker_total_charges\n",
    "    \n",
    "    \n",
    "total_charges_smokervsnon = total_charges_by_status(smoker_charges_list)\n",
    "\n",
    "smoker_total_charges = total_charges_smokervsnon[0]\n",
    "non_smoker_total_charges = total_charges_smokervsnon[1]"
   ]
  },
  {
   "cell_type": "code",
   "execution_count": 92,
   "metadata": {},
   "outputs": [
    {
     "name": "stdout",
     "output_type": "stream",
     "text": [
      "The average charge for smokers in the dataset was: $32050.23\n",
      "The average charge for non-smokers in the dataset was: $8434.27\n",
      "Recall the average charge for all individuals in the dataset was: $13270.42\n"
     ]
    }
   ],
   "source": [
    "avg_smoker_charge = round(smoker_total_charges/num_smokers, 2)\n",
    "avg_non_smoker_charge = round(non_smoker_total_charges/num_non_smokers, 2)\n",
    "\n",
    "print(\"\"\"The average charge for smokers in the dataset was: ${avg_smoker_charge}\n",
    "The average charge for non-smokers in the dataset was: ${avg_non_smoker_charge}\n",
    "Recall the average charge for all individuals in the dataset was: ${avg_charge}\"\"\".format(avg_smoker_charge = avg_smoker_charge, avg_non_smoker_charge = avg_non_smoker_charge, avg_charge = avg_charge))"
   ]
  },
  {
   "cell_type": "code",
   "execution_count": 107,
   "metadata": {},
   "outputs": [],
   "source": [
    "charges_by_region = list(zip(regions, insurance_charges))\n",
    "\n",
    "def get_avg_cost_by_region(list_name):\n",
    "    southwest_total = 0\n",
    "    southeast_total = 0\n",
    "    northwest_total = 0\n",
    "    northeast_total = 0\n",
    "    for data in list_name:\n",
    "        if data[0] == 'southwest':\n",
    "            southwest_total += data[1]\n",
    "        elif data[0] == 'southeast':\n",
    "            southeast_total += data[1]\n",
    "        elif data[0] == 'northwest':\n",
    "            northwest_total += data[1]\n",
    "        elif data[0] == 'northeast':\n",
    "            northeast_total += data[1]\n",
    "    return southwest_total, southeast_total, northwest_total, northeast_total\n",
    "        \n",
    "    \n",
    "    \n",
    "    \n",
    "costs_by_region = get_avg_cost_by_region(charges_by_region)\n",
    "southwest_total_cost = costs_by_region[0]\n",
    "southeast_total_cost = costs_by_region[1]\n",
    "northwest_total_cost = costs_by_region[2]\n",
    "northeast_total_cost = costs_by_region[3]"
   ]
  },
  {
   "cell_type": "code",
   "execution_count": 113,
   "metadata": {},
   "outputs": [
    {
     "name": "stdout",
     "output_type": "stream",
     "text": [
      "The average cost by region is displayed below:\n",
      "Southwest: $12346.94\n",
      "Southeast: $14735.41\n",
      "Northwest: $12417.58\n",
      "Northeast: $13406.38\n"
     ]
    }
   ],
   "source": [
    "southwest_avg_cost = round(southwest_total_cost/num_from_southwest, 2)\n",
    "southeast_avg_cost = round(southeast_total_cost/num_from_southeast, 2)\n",
    "northwest_avg_cost = round(northwest_total_cost/num_from_northwest, 2)\n",
    "northeast_avg_cost = round(northeast_total_cost/num_from_northeast, 2)\n",
    "\n",
    "print(\"\"\"The average cost by region is displayed below:\n",
    "Southwest: ${southwest}\n",
    "Southeast: ${southeast}\n",
    "Northwest: ${northwest}\n",
    "Northeast: ${northeast}\"\"\".format(southwest = southwest_avg_cost, southeast = southeast_avg_cost, northwest = northwest_avg_cost, northeast = northeast_avg_cost))"
   ]
  },
  {
   "cell_type": "code",
   "execution_count": null,
   "metadata": {},
   "outputs": [],
   "source": []
  }
 ],
 "metadata": {
  "kernelspec": {
   "display_name": "Python 3",
   "language": "python",
   "name": "python3"
  },
  "language_info": {
   "codemirror_mode": {
    "name": "ipython",
    "version": 3
   },
   "file_extension": ".py",
   "mimetype": "text/x-python",
   "name": "python",
   "nbconvert_exporter": "python",
   "pygments_lexer": "ipython3",
   "version": "3.8.8"
  }
 },
 "nbformat": 4,
 "nbformat_minor": 4
}
